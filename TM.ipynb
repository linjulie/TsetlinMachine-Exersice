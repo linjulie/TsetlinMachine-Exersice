{
 "cells": [
  {
   "cell_type": "markdown",
   "metadata": {},
   "source": [
    "A Tsetlin Machine to classify wheter a patient are in the class recurrence or non-recurrence\n"
   ]
  },
  {
   "cell_type": "code",
   "execution_count": 6,
   "metadata": {},
   "outputs": [],
   "source": [
    "import random"
   ]
  },
  {
   "cell_type": "code",
   "execution_count": 1,
   "metadata": {},
   "outputs": [],
   "source": [
    "breast_cancer_patients = [\n",
    "    {'Menopause it40': False, 'Menopause ge40': True, 'Menopause premeno': False, 'Inv-nodes 0-2': False, 'Inv-nodes 3-5': True, 'Inv-nodes 6-8': False, 'Deg-Malig 1':False, 'Deg-Malig 2':False, 'Deg-Malig 3':True, 'Recurrence': True},\n",
    "    {'Menopause it40': True, 'Menopause ge40': False, 'Menopause premeno': False, 'Inv-nodes 0-2': True, 'Inv-nodes 3-5': False, 'Inv-nodes 6-8': False, 'Deg-Malig 1':False, 'Deg-Malig 2':False, 'Deg-Malig 3':True, 'Recurrence': False},\n",
    "    {'Menopause it40': False, 'Menopause ge40': True, 'Menopause premeno': False, 'Inv-nodes 0-2': False, 'Inv-nodes 3-5': False, 'Inv-nodes 6-8': True, 'Deg-Malig 1':False, 'Deg-Malig 2':False, 'Deg-Malig 3':True, 'Recurrence': True},\n",
    "    {'Menopause it40': False, 'Menopause ge40': True, 'Menopause premeno': False, 'Inv-nodes 0-2': True, 'Inv-nodes 3-5': False, 'Inv-nodes 6-8': False, 'Deg-Malig 1':False, 'Deg-Malig 2':True, 'Deg-Malig 3':False, 'Recurrence': False},\n",
    "    {'Menopause it40': False, 'Menopause ge40': False, 'Menopause premeno': True, 'Inv-nodes 0-2': True, 'Inv-nodes 3-5': False, 'Inv-nodes 6-8': False, 'Deg-Malig 1':False, 'Deg-Malig 2':False, 'Deg-Malig 3':True, 'Recurrence': True},\n",
    "    {'Menopause it40': False, 'Menopause ge40': False, 'Menopause premeno': True, 'Inv-nodes 0-2': True, 'Inv-nodes 3-5': False, 'Inv-nodes 6-8': False, 'Deg-Malig 1':True, 'Deg-Malig 2':False, 'Deg-Malig 3':False, 'Recurrence': False},\n",
    "]"
   ]
  },
  {
   "cell_type": "code",
   "execution_count": 2,
   "metadata": {},
   "outputs": [],
   "source": [
    "#Rules for recurrence\n",
    "R1 = 'IF Deg-Malig 3 AND NOT Menopause it40 THEN Recurrence'\n",
    "R2 = 'IF Deg-Malig 3 THEN Recurrence'\n",
    "R3 = 'IF Inv-node 0-2 THEN NOT Recurrence'"
   ]
  },
  {
   "cell_type": "markdown",
   "metadata": {},
   "source": [
    "evaluate_condition() from Granmo's code \n",
    "    https://github.com/cair/TsetlinMachineBook/blob/main/Chapter_1.ipynb"
   ]
  },
  {
   "cell_type": "code",
   "execution_count": 3,
   "metadata": {},
   "outputs": [],
   "source": [
    "def evaluate_condition(observation, condition):\n",
    "    truth_value_of_condition = True\n",
    "    for feature in observation:\n",
    "        if feature in condition and observation[feature] == False:\n",
    "            truth_value_of_condition = False\n",
    "            break\n",
    "        if 'NOT ' + feature in condition and observation[feature] == True:\n",
    "            truth_value_of_condition = False\n",
    "            break\n",
    "    return truth_value_of_condition"
   ]
  },
  {
   "cell_type": "code",
   "execution_count": 4,
   "metadata": {},
   "outputs": [],
   "source": [
    "example_condtion = ['Deg-Malig 3', 'Menopause it40']\n",
    "#returns true if features are true"
   ]
  },
  {
   "cell_type": "code",
   "execution_count": 5,
   "metadata": {},
   "outputs": [
    {
     "data": {
      "text/plain": [
       "False"
      ]
     },
     "execution_count": 5,
     "metadata": {},
     "output_type": "execute_result"
    }
   ],
   "source": [
    "evaluate_condition(breast_cancer_patients[0], example_condtion)"
   ]
  },
  {
   "cell_type": "markdown",
   "metadata": {},
   "source": [
    "Memory Class, also from Granmo's code"
   ]
  },
  {
   "cell_type": "code",
   "execution_count": 7,
   "metadata": {},
   "outputs": [],
   "source": [
    "class Memory:\n",
    "    def __init__(self, forget_value, memorize_value, memory):\n",
    "        self.memory = memory\n",
    "        self.forget_value = forget_value\n",
    "        self.memorize_value = memorize_value\n",
    "    \n",
    "    def get_memory(self):\n",
    "        return self.memory\n",
    "    \n",
    "    def get_literals(self):\n",
    "        return list(self.memory.keys())\n",
    "    \n",
    "    def get_condition(self):\n",
    "        condition = []\n",
    "        for literal in self.memory:\n",
    "            if self.memory[literal] >= 6:\n",
    "                condition.append(literal)\n",
    "        return condition\n",
    "        \n",
    "    def memorize(self, literal):\n",
    "        if random() <= self.memorize_value and self.memory[literal] < 10:\n",
    "            self.memory[literal] += 1\n",
    "            \n",
    "    def forget(self, literal):\n",
    "        if random() <= self.forget_value and self.memory[literal] > 1:\n",
    "            self.memory[literal] -= 1\n",
    "            \n",
    "    def memorize_always(self, literal):\n",
    "        if  self.memory[literal] < 10:\n",
    "            self.memory[literal] += 1"
   ]
  },
  {
   "cell_type": "markdown",
   "metadata": {},
   "source": [
    "## Feedback\n",
    "\n",
    "1. Recognize feedback (Type 1a feedback)\n",
    "2. Erase feedback (Type 1b feedback)\n",
    "3. Reject feedback"
   ]
  },
  {
   "cell_type": "code",
   "execution_count": null,
   "metadata": {},
   "outputs": [],
   "source": []
  },
  {
   "cell_type": "code",
   "execution_count": null,
   "metadata": {},
   "outputs": [],
   "source": []
  }
 ],
 "metadata": {
  "kernelspec": {
   "display_name": "Python 3",
   "language": "python",
   "name": "python3"
  },
  "language_info": {
   "codemirror_mode": {
    "name": "ipython",
    "version": 3
   },
   "file_extension": ".py",
   "mimetype": "text/x-python",
   "name": "python",
   "nbconvert_exporter": "python",
   "pygments_lexer": "ipython3",
   "version": "3.11.4"
  },
  "orig_nbformat": 4
 },
 "nbformat": 4,
 "nbformat_minor": 2
}
