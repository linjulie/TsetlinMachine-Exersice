{
 "cells": [
  {
   "cell_type": "markdown",
   "metadata": {},
   "source": [
    "A Tsetlin Machine to classify wheter a patient are in the class recurrence or non-recurrence\n"
   ]
  },
  {
   "cell_type": "code",
   "execution_count": 29,
   "metadata": {},
   "outputs": [],
   "source": [
    "import random"
   ]
  },
  {
   "cell_type": "code",
   "execution_count": 30,
   "metadata": {},
   "outputs": [],
   "source": [
    "breast_cancer_patients = [\n",
    "    {'Menopause it40': False, 'Menopause ge40': True, 'Menopause premeno': False, 'Inv-nodes 0-2': False, 'Inv-nodes 3-5': True, 'Inv-nodes 6-8': False, 'Deg-Malig 1':False, 'Deg-Malig 2':False, 'Deg-Malig 3':True, 'Recurrence': True},\n",
    "    {'Menopause it40': True, 'Menopause ge40': False, 'Menopause premeno': False, 'Inv-nodes 0-2': True, 'Inv-nodes 3-5': False, 'Inv-nodes 6-8': False, 'Deg-Malig 1':False, 'Deg-Malig 2':False, 'Deg-Malig 3':True, 'Recurrence': False},\n",
    "    {'Menopause it40': False, 'Menopause ge40': True, 'Menopause premeno': False, 'Inv-nodes 0-2': False, 'Inv-nodes 3-5': False, 'Inv-nodes 6-8': True, 'Deg-Malig 1':False, 'Deg-Malig 2':False, 'Deg-Malig 3':True, 'Recurrence': True},\n",
    "    {'Menopause it40': False, 'Menopause ge40': True, 'Menopause premeno': False, 'Inv-nodes 0-2': True, 'Inv-nodes 3-5': False, 'Inv-nodes 6-8': False, 'Deg-Malig 1':False, 'Deg-Malig 2':True, 'Deg-Malig 3':False, 'Recurrence': False},\n",
    "    {'Menopause it40': False, 'Menopause ge40': False, 'Menopause premeno': True, 'Inv-nodes 0-2': True, 'Inv-nodes 3-5': False, 'Inv-nodes 6-8': False, 'Deg-Malig 1':False, 'Deg-Malig 2':False, 'Deg-Malig 3':True, 'Recurrence': True},\n",
    "    {'Menopause it40': False, 'Menopause ge40': False, 'Menopause premeno': True, 'Inv-nodes 0-2': True, 'Inv-nodes 3-5': False, 'Inv-nodes 6-8': False, 'Deg-Malig 1':True, 'Deg-Malig 2':False, 'Deg-Malig 3':False, 'Recurrence': False},\n",
    "]"
   ]
  },
  {
   "cell_type": "code",
   "execution_count": 31,
   "metadata": {},
   "outputs": [],
   "source": [
    "#Rules for recurrence\n",
    "R1 = ['Deg-Malig 3', 'NOT Menopause it40'] #recurrence rule\n",
    "R2 = ['Deg-Malig 3'] #recurrence rule\n",
    "R3 = ['Inv-node 0-2'] #non-recurrence rule"
   ]
  },
  {
   "cell_type": "markdown",
   "metadata": {},
   "source": [
    "evaluate_condition() from Granmo's code \n",
    "    https://github.com/cair/TsetlinMachineBook/blob/main/Chapter_1.ipynb"
   ]
  },
  {
   "cell_type": "code",
   "execution_count": 32,
   "metadata": {},
   "outputs": [],
   "source": [
    "def evaluate_condition(observation, condition):\n",
    "    truth_value_of_condition = True\n",
    "    for feature in observation:\n",
    "        if feature in condition and observation[feature] == False:\n",
    "            truth_value_of_condition = False\n",
    "            break\n",
    "        if 'NOT ' + feature in condition and observation[feature] == True:\n",
    "            truth_value_of_condition = False\n",
    "            break\n",
    "    return truth_value_of_condition"
   ]
  },
  {
   "cell_type": "code",
   "execution_count": 33,
   "metadata": {},
   "outputs": [
    {
     "data": {
      "text/plain": [
       "True"
      ]
     },
     "execution_count": 33,
     "metadata": {},
     "output_type": "execute_result"
    }
   ],
   "source": [
    "evaluate_condition(breast_cancer_patients[0], R1)"
   ]
  },
  {
   "cell_type": "markdown",
   "metadata": {},
   "source": [
    "Memory Class, also from Granmo's code"
   ]
  },
  {
   "cell_type": "code",
   "execution_count": 34,
   "metadata": {},
   "outputs": [],
   "source": [
    "class Memory:\n",
    "    def __init__(self, forget_value, memorize_value, memory):\n",
    "        self.memory = memory\n",
    "        self.forget_value = forget_value\n",
    "        self.memorize_value = memorize_value\n",
    "    \n",
    "    def get_memory(self):\n",
    "        return self.memory\n",
    "    \n",
    "    def get_literals(self):\n",
    "        return list(self.memory.keys())\n",
    "    \n",
    "    def get_condition(self):\n",
    "        condition = []\n",
    "        for literal in self.memory:\n",
    "            if self.memory[literal] >= 6:\n",
    "                condition.append(literal)\n",
    "        return condition\n",
    "        \n",
    "    def memorize(self, literal):\n",
    "        if random() <= self.memorize_value and self.memory[literal] < 10:\n",
    "            self.memory[literal] += 1\n",
    "            \n",
    "    def forget(self, literal):\n",
    "        if random() <= self.forget_value and self.memory[literal] > 1:\n",
    "            self.memory[literal] -= 1\n",
    "            \n",
    "    def memorize_always(self, literal):\n",
    "        if  self.memory[literal] < 10:\n",
    "            self.memory[literal] += 1"
   ]
  },
  {
   "cell_type": "markdown",
   "metadata": {},
   "source": [
    "## Feedback\n",
    "\n",
    "1. Recognize feedback (Type 1a feedback)\n",
    "2. Erase feedback (Type 1b feedback)\n",
    "3. Reject feedback\n",
    "\n",
    "all are taken from Granmo's github repository"
   ]
  },
  {
   "cell_type": "code",
   "execution_count": 35,
   "metadata": {},
   "outputs": [],
   "source": [
    "def type_i_feedback(observation, memory):\n",
    "    remaining_literals = memory.get_literals()\n",
    "    if evaluate_condition(observation, memory.get_condition()) == True: #If the condition is false, then the literals that are true for the object are remembered\n",
    "        for feature in observation:\n",
    "            if observation[feature] == True:\n",
    "                memory.memorize(feature)\n",
    "                remaining_literals.remove(feature)\n",
    "            elif observation[feature] == False:\n",
    "                memory.memorize('NOT ' + feature)\n",
    "                remaining_literals.remove('NOT ' + feature)\n",
    "    # else if the condition is false, all literals are forgotten\n",
    "    for literal in remaining_literals:\n",
    "        memory.forget(literal)"
   ]
  },
  {
   "cell_type": "code",
   "execution_count": 36,
   "metadata": {},
   "outputs": [],
   "source": [
    "def type_ii_feedback(observation, memory):\n",
    "    if evaluate_condition(observation, memory.get_condition()) == True: \n",
    "        for feature in observation:\n",
    "            if observation[feature] == True: \n",
    "                memory.memorize_always(feature)\n",
    "            elif observation[feature] == False: \n",
    "                memory.memorize_always('NOT ' + feature)"
   ]
  },
  {
   "cell_type": "code",
   "execution_count": 37,
   "metadata": {},
   "outputs": [],
   "source": [
    "recurrence_rule = Memory(0.9, 0.1, {'Menopause it40': 5, 'NOT Menopause it40': 5,'Menopause ge40': 5, 'NOT Menopause ge40': 5,'Menopause premeno': 5, \n",
    "                                    'NOT Menopause premeno': 5, 'Inv-nodes 0-2': 5, 'NOT Inv-nodes 0-2': 5, 'Inv-nodes 3-5': 5, 'NOT Inv-nodes 3-5': 5, \n",
    "                                    'Inv-nodes 6-8': 5, 'NOT Inv-nodes 6-8': 5, 'Deg-Malig 1':5, 'NOT Deg-Malig 1':5, 'Deg-Malig 2':5, 'NOT Deg-Malig 2':5, \n",
    "                                    'Deg-Malig 3':5,'NOT Deg-Malig 3':5})"
   ]
  },
  {
   "cell_type": "code",
   "execution_count": 38,
   "metadata": {},
   "outputs": [
    {
     "data": {
      "text/plain": [
       "['NOT Menopause it40', 'Deg-Malig 3']"
      ]
     },
     "execution_count": 38,
     "metadata": {},
     "output_type": "execute_result"
    }
   ],
   "source": [
    "recurrence_rule.get_condition()"
   ]
  }
 ],
 "metadata": {
  "kernelspec": {
   "display_name": "Python 3",
   "language": "python",
   "name": "python3"
  },
  "language_info": {
   "codemirror_mode": {
    "name": "ipython",
    "version": 3
   },
   "file_extension": ".py",
   "mimetype": "text/x-python",
   "name": "python",
   "nbconvert_exporter": "python",
   "pygments_lexer": "ipython3",
   "version": "3.11.4"
  },
  "orig_nbformat": 4
 },
 "nbformat": 4,
 "nbformat_minor": 2
}
